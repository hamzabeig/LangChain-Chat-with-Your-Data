{
  "metadata": {
    "kernelspec": {
      "name": "python",
      "display_name": "Python (Pyodide)",
      "language": "python"
    },
    "language_info": {
      "codemirror_mode": {
        "name": "python",
        "version": 3
      },
      "file_extension": ".py",
      "mimetype": "text/x-python",
      "name": "python",
      "nbconvert_exporter": "python",
      "pygments_lexer": "ipython3",
      "version": "3.8"
    }
  },
  "nbformat_minor": 4,
  "nbformat": 4,
  "cells": [
    {
      "cell_type": "markdown",
      "source": "Chat\nRecall the overall workflow for retrieval augmented generation (RAG):\nWe discussed Document Loading and Splitting as well as Storage and Retrieval.\n\nWe then showed how Retrieval can be used for output generation in Q+A using RetrievalQA chain.",
      "metadata": {}
    },
    {
      "cell_type": "code",
      "source": "import os\nimport openai\nimport sys\nsys.path.append('../..')\n\nimport panel as pn  # GUI\npn.extension()\n\nfrom dotenv import load_dotenv, find_dotenv\n_ = load_dotenv(find_dotenv()) # read local .env file\n\nopenai.api_key  = os.environ['OPENAI_API_KEY']",
      "metadata": {
        "trusted": true
      },
      "outputs": [],
      "execution_count": null
    },
    {
      "cell_type": "markdown",
      "source": "The code below was added to assign the openai LLM version filmed until it is deprecated, currently in Sept 2023. LLM responses can often vary, but the responses may be significantly different when using a different model version.",
      "metadata": {}
    },
    {
      "cell_type": "code",
      "source": "import datetime\ncurrent_date = datetime.datetime.now().date()\nif current_date < datetime.date(2023, 9, 2):\n    llm_name = \"gpt-3.5-turbo-0301\"\nelse:\n    llm_name = \"gpt-3.5-turbo\"\nprint(llm_name)",
      "metadata": {
        "trusted": true
      },
      "outputs": [],
      "execution_count": null
    },
    {
      "cell_type": "markdown",
      "source": "If you wish to experiment on LangChain plus platform:\n\nGo to langchain plus platform and sign up https://www.langchain.plus/\nCreate an api key from your account's settings\nUse this api key in the code below",
      "metadata": {}
    },
    {
      "cell_type": "code",
      "source": "#import os\n#os.environ[\"LANGCHAIN_TRACING_V2\"] = \"true\"\n#os.environ[\"LANGCHAIN_ENDPOINT\"] = \"https://api.langchain.plus\"\n#os.environ[\"LANGCHAIN_API_KEY\"] = \"...\"",
      "metadata": {
        "trusted": true
      },
      "outputs": [],
      "execution_count": null
    },
    {
      "cell_type": "code",
      "source": "from langchain.vectorstores import Chroma\nfrom langchain.embeddings.openai import OpenAIEmbeddings\npersist_directory = 'docs/chroma/'\nembedding = OpenAIEmbeddings()\nvectordb = Chroma(persist_directory=persist_directory, embedding_function=embedding)",
      "metadata": {
        "trusted": true
      },
      "outputs": [],
      "execution_count": null
    },
    {
      "cell_type": "code",
      "source": "question = \"What are major topics for this class?\"\ndocs = vectordb.similarity_search(question,k=3)\nlen(docs)",
      "metadata": {
        "trusted": true
      },
      "outputs": [],
      "execution_count": null
    },
    {
      "cell_type": "code",
      "source": "from langchain.chat_models import ChatOpenAI\nllm = ChatOpenAI(model_name=llm_name, temperature=0)\nllm.predict(\"Hello world!\")",
      "metadata": {
        "trusted": true
      },
      "outputs": [],
      "execution_count": null
    },
    {
      "cell_type": "code",
      "source": "# Build prompt\nfrom langchain.prompts import PromptTemplate\ntemplate = \"\"\"Use the following pieces of context to answer the question at the end. If you don't know the answer, just say that you don't know, don't try to make up an answer. Use three sentences maximum. Keep the answer as concise as possible. Always say \"thanks for asking!\" at the end of the answer. \n{context}\nQuestion: {question}\nHelpful Answer:\"\"\"\nQA_CHAIN_PROMPT = PromptTemplate(input_variables=[\"context\", \"question\"],template=template,)\n\n# Run chain\nfrom langchain.chains import RetrievalQA\nquestion = \"Is probability a class topic?\"\nqa_chain = RetrievalQA.from_chain_type(llm,\n                                       retriever=vectordb.as_retriever(),\n                                       return_source_documents=True,\n                                       chain_type_kwargs={\"prompt\": QA_CHAIN_PROMPT})\n\n\nresult = qa_chain({\"query\": question})\nresult[\"result\"]",
      "metadata": {
        "trusted": true
      },
      "outputs": [],
      "execution_count": null
    },
    {
      "cell_type": "markdown",
      "source": "Memory",
      "metadata": {}
    },
    {
      "cell_type": "code",
      "source": "from langchain.memory import ConversationBufferMemory\nmemory = ConversationBufferMemory(\n    memory_key=\"chat_history\",\n    return_messages=True\n)",
      "metadata": {
        "trusted": true
      },
      "outputs": [],
      "execution_count": null
    },
    {
      "cell_type": "markdown",
      "source": "ConversationalRetrievalChain",
      "metadata": {}
    },
    {
      "cell_type": "code",
      "source": "from langchain.chains import ConversationalRetrievalChain\nretriever=vectordb.as_retriever()\nqa = ConversationalRetrievalChain.from_llm(\n    llm,\n    retriever=retriever,\n    memory=memory\n)",
      "metadata": {
        "trusted": true
      },
      "outputs": [],
      "execution_count": null
    },
    {
      "cell_type": "code",
      "source": "question = \"Is probability a class topic?\"\nresult = qa({\"question\": question})",
      "metadata": {
        "trusted": true
      },
      "outputs": [],
      "execution_count": null
    },
    {
      "cell_type": "code",
      "source": "result['answer']",
      "metadata": {
        "trusted": true
      },
      "outputs": [],
      "execution_count": null
    },
    {
      "cell_type": "code",
      "source": "question = \"why are those prerequesites needed?\"\nresult = qa({\"question\": question})",
      "metadata": {
        "trusted": true
      },
      "outputs": [],
      "execution_count": null
    },
    {
      "cell_type": "code",
      "source": "result['answer']",
      "metadata": {
        "trusted": true
      },
      "outputs": [],
      "execution_count": null
    },
    {
      "cell_type": "markdown",
      "source": "Create a chatbot that works on your documents",
      "metadata": {}
    },
    {
      "cell_type": "code",
      "source": "from langchain.embeddings.openai import OpenAIEmbeddings\nfrom langchain.text_splitter import CharacterTextSplitter, RecursiveCharacterTextSplitter\nfrom langchain.vectorstores import DocArrayInMemorySearch\nfrom langchain.document_loaders import TextLoader\nfrom langchain.chains import RetrievalQA,  ConversationalRetrievalChain\nfrom langchain.memory import ConversationBufferMemory\nfrom langchain.chat_models import ChatOpenAI\nfrom langchain.document_loaders import TextLoader\nfrom langchain.document_loaders import PyPDFLoader",
      "metadata": {
        "trusted": true
      },
      "outputs": [],
      "execution_count": null
    },
    {
      "cell_type": "markdown",
      "source": "The chatbot code has been updated a bit since filming. The GUI appearance also varies depending on the platform it is running on.",
      "metadata": {}
    },
    {
      "cell_type": "code",
      "source": "def load_db(file, chain_type, k):\n    # load documents\n    loader = PyPDFLoader(file)\n    documents = loader.load()\n    # split documents\n    text_splitter = RecursiveCharacterTextSplitter(chunk_size=1000, chunk_overlap=150)\n    docs = text_splitter.split_documents(documents)\n    # define embedding\n    embeddings = OpenAIEmbeddings()\n    # create vector database from data\n    db = DocArrayInMemorySearch.from_documents(docs, embeddings)\n    # define retriever\n    retriever = db.as_retriever(search_type=\"similarity\", search_kwargs={\"k\": k})\n    # create a chatbot chain. Memory is managed externally.\n    qa = ConversationalRetrievalChain.from_llm(\n        llm=ChatOpenAI(model_name=llm_name, temperature=0), \n        chain_type=chain_type, \n        retriever=retriever, \n        return_source_documents=True,\n        return_generated_question=True,\n    )\n    return qa \n",
      "metadata": {
        "trusted": true
      },
      "outputs": [],
      "execution_count": null
    },
    {
      "cell_type": "code",
      "source": "import panel as pn\nimport param\n\nclass cbfs(param.Parameterized):\n    chat_history = param.List([])\n    answer = param.String(\"\")\n    db_query  = param.String(\"\")\n    db_response = param.List([])\n    \n    def __init__(self,  **params):\n        super(cbfs, self).__init__( **params)\n        self.panels = []\n        self.loaded_file = \"docs/cs229_lectures/MachineLearning-Lecture01.pdf\"\n        self.qa = load_db(self.loaded_file,\"stuff\", 4)\n    \n    def call_load_db(self, count):\n        if count == 0 or file_input.value is None:  # init or no file specified :\n            return pn.pane.Markdown(f\"Loaded File: {self.loaded_file}\")\n        else:\n            file_input.save(\"temp.pdf\")  # local copy\n            self.loaded_file = file_input.filename\n            button_load.button_style=\"outline\"\n            self.qa = load_db(\"temp.pdf\", \"stuff\", 4)\n            button_load.button_style=\"solid\"\n        self.clr_history()\n        return pn.pane.Markdown(f\"Loaded File: {self.loaded_file}\")\n\n    def convchain(self, query):\n        if not query:\n            return pn.WidgetBox(pn.Row('User:', pn.pane.Markdown(\"\", width=600)), scroll=True)\n        result = self.qa({\"question\": query, \"chat_history\": self.chat_history})\n        self.chat_history.extend([(query, result[\"answer\"])])\n        self.db_query = result[\"generated_question\"]\n        self.db_response = result[\"source_documents\"]\n        self.answer = result['answer'] \n        self.panels.extend([\n            pn.Row('User:', pn.pane.Markdown(query, width=600)),\n            pn.Row('ChatBot:', pn.pane.Markdown(self.answer, width=600, style={'background-color': '#F6F6F6'}))\n        ])\n        inp.value = ''  #clears loading indicator when cleared\n        return pn.WidgetBox(*self.panels,scroll=True)\n\n    @param.depends('db_query ', )\n    def get_lquest(self):\n        if not self.db_query :\n            return pn.Column(\n                pn.Row(pn.pane.Markdown(f\"Last question to DB:\", styles={'background-color': '#F6F6F6'})),\n                pn.Row(pn.pane.Str(\"no DB accesses so far\"))\n            )\n        return pn.Column(\n            pn.Row(pn.pane.Markdown(f\"DB query:\", styles={'background-color': '#F6F6F6'})),\n            pn.pane.Str(self.db_query )\n        )\n\n    @param.depends('db_response', )\n    def get_sources(self):\n        if not self.db_response:\n            return \n        rlist=[pn.Row(pn.pane.Markdown(f\"Result of DB lookup:\", styles={'background-color': '#F6F6F6'}))]\n        for doc in self.db_response:\n            rlist.append(pn.Row(pn.pane.Str(doc)))\n        return pn.WidgetBox(*rlist, width=600, scroll=True)\n\n    @param.depends('convchain', 'clr_history') \n    def get_chats(self):\n        if not self.chat_history:\n            return pn.WidgetBox(pn.Row(pn.pane.Str(\"No History Yet\")), width=600, scroll=True)\n        rlist=[pn.Row(pn.pane.Markdown(f\"Current Chat History variable\", styles={'background-color': '#F6F6F6'}))]\n        for exchange in self.chat_history:\n            rlist.append(pn.Row(pn.pane.Str(exchange)))\n        return pn.WidgetBox(*rlist, width=600, scroll=True)\n\n    def clr_history(self,count=0):\n        self.chat_history = []\n        return \n",
      "metadata": {
        "trusted": true
      },
      "outputs": [],
      "execution_count": null
    },
    {
      "cell_type": "markdown",
      "source": "Create a chatbot",
      "metadata": {}
    },
    {
      "cell_type": "code",
      "source": "cb = cbfs()\n\nfile_input = pn.widgets.FileInput(accept='.pdf')\nbutton_load = pn.widgets.Button(name=\"Load DB\", button_type='primary')\nbutton_clearhistory = pn.widgets.Button(name=\"Clear History\", button_type='warning')\nbutton_clearhistory.on_click(cb.clr_history)\ninp = pn.widgets.TextInput( placeholder='Enter text here…')\n\nbound_button_load = pn.bind(cb.call_load_db, button_load.param.clicks)\nconversation = pn.bind(cb.convchain, inp) \n\njpg_pane = pn.pane.Image( './img/convchain.jpg')\n\ntab1 = pn.Column(\n    pn.Row(inp),\n    pn.layout.Divider(),\n    pn.panel(conversation,  loading_indicator=True, height=300),\n    pn.layout.Divider(),\n)\ntab2= pn.Column(\n    pn.panel(cb.get_lquest),\n    pn.layout.Divider(),\n    pn.panel(cb.get_sources ),\n)\ntab3= pn.Column(\n    pn.panel(cb.get_chats),\n    pn.layout.Divider(),\n)\ntab4=pn.Column(\n    pn.Row( file_input, button_load, bound_button_load),\n    pn.Row( button_clearhistory, pn.pane.Markdown(\"Clears chat history. Can use to start a new topic\" )),\n    pn.layout.Divider(),\n    pn.Row(jpg_pane.clone(width=400))\n)\ndashboard = pn.Column(\n    pn.Row(pn.pane.Markdown('# ChatWithYourData_Bot')),\n    pn.Tabs(('Conversation', tab1), ('Database', tab2), ('Chat History', tab3),('Configure', tab4))\n)\ndashboard",
      "metadata": {
        "trusted": true
      },
      "outputs": [],
      "execution_count": null
    },
    {
      "cell_type": "markdown",
      "source": "Modify the code to add your own features. You can try alternate memory and retriever models by changing the configuration in load_db function and the convchain method. Panel and Param have many useful features and widgets you can use to extend the GUI.",
      "metadata": {}
    }
  ]
}